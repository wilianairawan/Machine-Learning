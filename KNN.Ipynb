from sklearn.neighbors import KNeighborsClassifier

# Data training
#training data
X_train = [[40,5,60], [50,8,40], [50,7,30],[70,4,60],[80,4,80],[60,6,60]]
y_train = ['TOLAK', 'TERIMA', 'TOLAK','TERIMA','TERIMA','TERIMA']

# Inisialisasi model KNN dengan jumlah tetangga (n_neighbors) sebesar 3 (ubah nilai k)
## Initialize the KNN model with the number of neighbors (n_neighbors) of 3 (change the value of k)
knn = KNeighborsClassifier(n_neighbors=6)

# Melatih model dengan data training
#train model using data training
knn.fit(X_train, y_train)

# Data test
X_test = [[50,3,40]]
y_test = ['?']  # Label yang seharusnya didapat dari prediksi

# Melakukan prediksi dengan model yang sudah dilatih
predictions = knn.predict(X_test)

# Mengevaluasi performa model
accuracy = knn.score(X_test, y_test)
print("Akurasi:", accuracy)

# Menampilkan hasil prediksi
print("Hasil Prediksi:")
for i, pred in enumerate(predictions):
    print(f"Data test {i+1}: Kelas prediksi = {pred}")
