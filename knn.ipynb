{
  "cells": [
    {
      "cell_type": "markdown",
      "metadata": {
        "id": "view-in-github",
        "colab_type": "text"
      },
      "source": [
        "<a href=\"https://colab.research.google.com/github/wilianairawan/Machine-Learning/blob/main/knn.ipynb\" target=\"_parent\"><img src=\"https://colab.research.google.com/assets/colab-badge.svg\" alt=\"Open In Colab\"/></a>"
      ]
    },
    {
      "cell_type": "code",
      "source": [
        "from sklearn.neighbors import KNeighborsClassifier\n",
        "\n",
        "# Data training\n",
        "#training data\n",
        "X_train = [[40,5,60], [50,8,40], [50,7,30],[70,4,60],[80,4,80],[60,6,60]]\n",
        "y_train = ['TOLAK', 'TERIMA', 'TOLAK','TERIMA','TERIMA','TERIMA']\n",
        "\n",
        "# Inisialisasi model KNN dengan jumlah tetangga (n_neighbors) sebesar 3 (ubah nilai k)\n",
        "## Initialize the KNN model with the number of neighbors (n_neighbors) of 3 (change the value of k)\n",
        "knn = KNeighborsClassifier(n_neighbors=6)\n",
        "\n",
        "# Melatih model dengan data training\n",
        "#train model using data training\n",
        "knn.fit(X_train, y_train)\n",
        "\n",
        "# Data test\n",
        "X_test = [[50,3,40]]\n",
        "y_test = ['?']  # Label yang seharusnya didapat dari prediksi\n",
        "\n",
        "# Melakukan prediksi dengan model yang sudah dilatih\n",
        "predictions = knn.predict(X_test)\n",
        "\n",
        "# Mengevaluasi performa model\n",
        "accuracy = knn.score(X_test, y_test)\n",
        "print(\"Akurasi:\", accuracy)\n",
        "\n",
        "# Menampilkan hasil prediksi\n",
        "print(\"Hasil Prediksi:\")\n",
        "for i, pred in enumerate(predictions):\n",
        "    print(f\"Data test {i+1}: Kelas prediksi = {pred}\")\n"
      ],
      "metadata": {
        "colab": {
          "base_uri": "https://localhost:8080/"
        },
        "id": "CYF4ugdEEFsY",
        "outputId": "ac73e233-59c1-4842-f516-72cfb95b3ffe"
      },
      "execution_count": null,
      "outputs": [
        {
          "output_type": "stream",
          "name": "stdout",
          "text": [
            "Akurasi: 0.0\n",
            "Hasil Prediksi:\n",
            "Data test 1: Kelas prediksi = TERIMA\n"
          ]
        }
      ]
    }
  ],
  "metadata": {
    "colab": {
      "provenance": [],
      "toc_visible": true,
      "include_colab_link": true
    },
    "kernelspec": {
      "display_name": "Python 3",
      "name": "python3"
    }
  },
  "nbformat": 4,
  "nbformat_minor": 0
}